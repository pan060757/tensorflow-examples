{
 "cells": [
  {
   "cell_type": "code",
   "execution_count": 1,
   "metadata": {
    "collapsed": true
   },
   "outputs": [],
   "source": [
    "import tensorflow as tf"
   ]
  },
  {
   "cell_type": "code",
   "execution_count": 2,
   "metadata": {
    "collapsed": true
   },
   "outputs": [],
   "source": [
    "# create variable a with scalar value\n",
    "a = tf.Variable(2, name=\"scalar\")\n",
    "# create variable b as a vector\n",
    "b = tf.Variable([2, 3], name=\"vector\")\n",
    "# create variable c as a 2x2 matrix\n",
    "c = tf.Variable([[0, 1], [2, 3]], name=\"matrix\")\n",
    "# create variable W as 784 x 10 tensor, filled with zeros\n",
    "W = tf.Variable(tf.zeros([784,10]))"
   ]
  },
  {
   "cell_type": "code",
   "execution_count": 3,
   "metadata": {
    "collapsed": true
   },
   "outputs": [],
   "source": [
    "#####The easiest way is initializing all variables at once:\n",
    "init = tf.global_variables_initializer()\n",
    "with tf.Session() as sess:\n",
    "    sess.run(init)\n",
    "###Initialize only a subset of variables:\n",
    "init_ab = tf.variables_initializer([a, b], name=\"init_ab\")\n",
    "with tf.Session() as sess:\n",
    "    sess.run(init_ab)\n",
    "####Initialize a single variable\n",
    "W = tf.Variable(tf.zeros([784,10]))\n",
    "with tf.Session() as sess:\n",
    "    sess.run(W.initializer)"
   ]
  },
  {
   "cell_type": "code",
   "execution_count": 4,
   "metadata": {
    "collapsed": false
   },
   "outputs": [
    {
     "name": "stdout",
     "output_type": "stream",
     "text": [
      "[[ 0.34132308  0.38936654 -0.80875409 ..., -0.38451052 -1.06116319\n",
      "   1.41681707]\n",
      " [ 1.36805177  0.24246517 -1.30642653 ..., -0.51734185 -1.77816415\n",
      "  -0.30396134]\n",
      " [-1.89893246  1.20092392  0.12236504 ..., -0.454528    0.37631497\n",
      "  -0.68589336]\n",
      " ..., \n",
      " [-0.41671634  0.59500438  0.3075546  ...,  0.20705707 -0.36786559\n",
      "  -1.42444897]\n",
      " [ 0.27217016 -1.99988127  0.34855384 ...,  0.59698856  1.01667511\n",
      "   0.84722149]\n",
      " [-0.30354407  0.62657183  0.98475438 ..., -1.56649959 -1.90157211\n",
      "   1.20989859]]\n"
     ]
    }
   ],
   "source": [
    "# W is a random 700 x 100 variable object\n",
    "W = tf.Variable(tf.truncated_normal([700, 10]))\n",
    "with tf.Session() as sess:\n",
    "    sess.run(W.initializer)\n",
    "    print (W.eval())"
   ]
  },
  {
   "cell_type": "code",
   "execution_count": 6,
   "metadata": {
    "collapsed": false
   },
   "outputs": [
    {
     "name": "stdout",
     "output_type": "stream",
     "text": [
      "10\n"
     ]
    }
   ],
   "source": [
    "####tf.Variable.assign()\n",
    "W = tf.Variable(10)\n",
    "W.assign(100)               ####W.assign(100) doesn’t assign the value 100 to W. It creates an assign op, and that op needs to be run to take effect.\n",
    "with tf.Session() as sess:\n",
    "    sess.run(W.initializer)\n",
    "    print (W.eval())                  "
   ]
  },
  {
   "cell_type": "code",
   "execution_count": 8,
   "metadata": {
    "collapsed": false
   },
   "outputs": [
    {
     "name": "stdout",
     "output_type": "stream",
     "text": [
      "100\n"
     ]
    }
   ],
   "source": [
    "W = tf.Variable(10)\n",
    "assign_op = W.assign(100)\n",
    "with tf.Session() as sess:\n",
    "    sess.run(W.initializer)       #####此时这句话可以省略\n",
    "    sess.run(assign_op)           ####需要运行一下\n",
    "    print (W.eval()) "
   ]
  },
  {
   "cell_type": "code",
   "execution_count": 11,
   "metadata": {
    "collapsed": false
   },
   "outputs": [
    {
     "name": "stdout",
     "output_type": "stream",
     "text": [
      "None\n",
      "4\n",
      "8\n"
     ]
    }
   ],
   "source": [
    "# create a variable whose original value is 2\n",
    "my_var = tf.Variable(2, name=\"my_var\")\n",
    "# assign a * 2 to a and call that op a_times_two\n",
    "my_var_times_two = my_var.assign(2 * my_var)\n",
    "with tf.Session() as sess:\n",
    "    print(sess.run(my_var.initializer))\n",
    "    print(sess.run(my_var_times_two)) # >> 4\n",
    "    print(sess.run(my_var_times_two))"
   ]
  },
  {
   "cell_type": "code",
   "execution_count": 14,
   "metadata": {
    "collapsed": false
   },
   "outputs": [
    {
     "name": "stdout",
     "output_type": "stream",
     "text": [
      "None\n",
      "20\n",
      "18\n"
     ]
    }
   ],
   "source": [
    "####assign_add() and assign_sub()\n",
    "my_var = tf.Variable(10)\n",
    "with tf.Session() as sess:\n",
    "    print(sess.run(my_var.initializer))\n",
    "    # increment by 10\n",
    "    print(sess.run(my_var.assign_add(10))) # >> 20\n",
    "    # decrement by 2\n",
    "    print(sess.run(my_var.assign_sub(2))) # >> 18"
   ]
  },
  {
   "cell_type": "code",
   "execution_count": 16,
   "metadata": {
    "collapsed": false
   },
   "outputs": [
    {
     "name": "stdout",
     "output_type": "stream",
     "text": [
      "20\n",
      "8\n",
      "120\n",
      "-42\n"
     ]
    }
   ],
   "source": [
    "#####Each session maintains its own copy of variable\n",
    "W = tf.Variable(10)\n",
    "sess1 = tf.Session()\n",
    "sess2 = tf.Session()\n",
    "sess1.run(W.initializer)\n",
    "sess2.run(W.initializer)\n",
    "print (sess1.run(W.assign_add(10)))# >> 20\n",
    "print (sess2.run(W.assign_sub(2)))\n",
    "print (sess1.run(W.assign_add(100))) # >> 120\n",
    "print( sess2.run(W.assign_sub(50)))# >> -42\n",
    "sess1.close()\n",
    "sess2.close()"
   ]
  },
  {
   "cell_type": "code",
   "execution_count": null,
   "metadata": {
    "collapsed": true
   },
   "outputs": [],
   "source": []
  },
  {
   "cell_type": "code",
   "execution_count": null,
   "metadata": {
    "collapsed": true
   },
   "outputs": [],
   "source": []
  },
  {
   "cell_type": "code",
   "execution_count": null,
   "metadata": {
    "collapsed": true
   },
   "outputs": [],
   "source": []
  }
 ],
 "metadata": {
  "anaconda-cloud": {},
  "kernelspec": {
   "display_name": "Python [default]",
   "language": "python",
   "name": "python3"
  },
  "language_info": {
   "codemirror_mode": {
    "name": "ipython",
    "version": 3
   },
   "file_extension": ".py",
   "mimetype": "text/x-python",
   "name": "python",
   "nbconvert_exporter": "python",
   "pygments_lexer": "ipython3",
   "version": "3.5.2"
  }
 },
 "nbformat": 4,
 "nbformat_minor": 1
}
