{
 "cells": [
  {
   "cell_type": "markdown",
   "metadata": {},
   "source": [
    "实现多层感知机模型"
   ]
  },
  {
   "cell_type": "code",
   "execution_count": 4,
   "metadata": {
    "collapsed": false
   },
   "outputs": [
    {
     "name": "stdout",
     "output_type": "stream",
     "text": [
      "Extracting MNIST_data/train-images-idx3-ubyte.gz\n",
      "Extracting MNIST_data/train-labels-idx1-ubyte.gz\n",
      "Extracting MNIST_data/t10k-images-idx3-ubyte.gz\n",
      "Extracting MNIST_data/t10k-labels-idx1-ubyte.gz\n"
     ]
    }
   ],
   "source": [
    "from tensorflow.examples.tutorials.mnist import input_data\n",
    "mnist=input_data.read_data_sets(\"MNIST_data/\",one_hot=True)\n",
    "import tensorflow as tf\n",
    "sess=tf.InteractiveSession()"
   ]
  },
  {
   "cell_type": "code",
   "execution_count": 5,
   "metadata": {
    "collapsed": false
   },
   "outputs": [
    {
     "name": "stdout",
     "output_type": "stream",
     "text": [
      "0.098\n"
     ]
    }
   ],
   "source": [
    "in_units=784            #输入节点数\n",
    "h1_units=300            #隐含层的输出节点数\n",
    "#隐含层参数设置（偏置赋值为0，并将权重初始化为截断的正态分布，其标准差为0.1,从而避免0梯度）\n",
    "w1=tf.Variable(tf.truncated_normal([in_units,h1_units],stddev=0.1))\n",
    "b1=tf.Variable(tf.zeros([h1_units]))\n",
    "#Softmax输出层参数设置\n",
    "w2=tf.Variable(tf.zeros([h1_units,10]))\n",
    "b2=tf.Variable(tf.zeros([10]))\n",
    "\n",
    "#定义输入x的placeholder\n",
    "x=tf.placeholder(tf.float32,[None,in_units])\n",
    "#定义输出\n",
    "y_=tf.placeholder(tf.float32,[None,10])\n",
    "#在训练和预测时，Dropout的比率keep_prob是不一样的，通常在训练时小于1，而预测时大于1，所以Dropout的比率也作为输入\n",
    "keep_prob=tf.placeholder(tf.float32)\n",
    "\n",
    "#定义模型的结构\n",
    "#首先定义隐含层(激活函数为ReLU)\n",
    "hidden1=tf.nn.relu(tf.matmul(x,w1)+b1) \n",
    "#调用tf.nn.dropout实现Dropout的功能\n",
    "#（dropout: 在训练时keep_prob是小于1的，随机的将一部分节点置为0，用以制作随机性，防止过拟合，在预测时应该等于1，使用全部的特征来预测样本的类别）\n",
    "hidden1_drop=tf.nn.dropout(hidden1,keep_prob)\n",
    "#定义输出层，使用Softmax作为激活函数\n",
    "y=tf.nn.softmax(tf.matmul(hidden1_drop,w2)+b2)\n",
    "\n",
    "\n",
    "#定义损失函数\n",
    "cross_entropy=tf.reduce_mean(-tf.reduce_sum(y_*tf.log(y)))\n",
    "\n",
    "#定义优化算法，选择自适应的Adagrad\n",
    "train_step=tf.train.AdagradOptimizer(0.3).minimize(cross_entropy)\n",
    "\n",
    "#初始化全局参数(加入keep_prob作为计算图的输入，并且在训练的时候设置为0.75,即保留75%的节点，其余25%的设置为0)\n",
    "tf.global_variables_initializer().run()\n",
    "for i in range(3000):\n",
    "    batch_xs,batch_ys=mnist.train.next_batch(100)\n",
    "    train_step.run({x:batch_xs,y_:batch_ys,keep_prob:0.75})\n",
    "#对模型进行准确率的评估\n",
    "correct_prediction=tf.equal(tf.argmax(y,1),tf.argmax(y_,1))\n",
    "accuracy=tf.reduce_mean(tf.cast(correct_prediction,tf.float32))\n",
    "print(accuracy.eval({x:mnist.test.images,y_:mnist.test.labels,keep_prob:1.0}))"
   ]
  }
 ],
 "metadata": {
  "anaconda-cloud": {},
  "kernelspec": {
   "display_name": "Python [default]",
   "language": "python",
   "name": "python3"
  },
  "language_info": {
   "codemirror_mode": {
    "name": "ipython",
    "version": 3.0
   },
   "file_extension": ".py",
   "mimetype": "text/x-python",
   "name": "python",
   "nbconvert_exporter": "python",
   "pygments_lexer": "ipython3",
   "version": "3.5.2"
  }
 },
 "nbformat": 4,
 "nbformat_minor": 0
}