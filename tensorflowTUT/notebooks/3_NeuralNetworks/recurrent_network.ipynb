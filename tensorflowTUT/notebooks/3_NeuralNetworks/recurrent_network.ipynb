{
 "cells": [
  {
   "cell_type": "markdown",
   "metadata": {
    "collapsed": true
   },
   "source": [
    "'''\n",
    "A Reccurent Neural Network (LSTM) implementation example using TensorFlow library.\n",
    "This example is using the MNIST database of handwritten digits (http://yann.lecun.com/exdb/mnist/)\n",
    "Long Short Term Memory paper: http://deeplearning.cs.cmu.edu/pdfs/Hochreiter97_lstm.pdf\n",
    "\n",
    "Author: Aymeric Damien\n",
    "Project: https://github.com/aymericdamien/TensorFlow-Examples/\n",
    "'''"
   ]
  },
  {
   "cell_type": "code",
   "execution_count": 1,
   "metadata": {
    "collapsed": false
   },
   "outputs": [
    {
     "name": "stdout",
     "output_type": "stream",
     "text": [
      "Extracting MNIST_data/train-images-idx3-ubyte.gz\n",
      "Extracting MNIST_data/train-labels-idx1-ubyte.gz\n",
      "Extracting MNIST_data/t10k-images-idx3-ubyte.gz\n",
      "Extracting MNIST_data/t10k-labels-idx1-ubyte.gz\n"
     ]
    }
   ],
   "source": [
    "import tensorflow as tf\n",
    "from tensorflow.contrib import rnn\n",
    "import numpy as np\n",
    "\n",
    "# Import MINST data\n",
    "from tensorflow.examples.tutorials.mnist import input_data\n",
    "mnist = input_data.read_data_sets(\"MNIST_data/\", one_hot=True)"
   ]
  },
  {
   "cell_type": "markdown",
   "metadata": {
    "collapsed": true
   },
   "source": [
    "'''\n",
    "To classify images using a reccurent neural network, we consider every image\n",
    "row as a sequence of pixels. Because MNIST image shape is 28*28px, we will then\n",
    "handle 28 sequences of 28 steps for every sample.\n",
    "'''"
   ]
  },
  {
   "cell_type": "code",
   "execution_count": 2,
   "metadata": {
    "collapsed": false
   },
   "outputs": [],
   "source": [
    "# Parameters\n",
    "learning_rate = 0.001\n",
    "training_iters = 100000\n",
    "batch_size = 128\n",
    "display_step = 10\n",
    "\n",
    "# Network Parameters\n",
    "n_input = 28 # MNIST data input (img shape: 28*28)\n",
    "n_steps = 28 # timesteps\n",
    "n_hidden = 128 # hidden layer num of features\n",
    "n_classes = 10 # MNIST total classes (0-9 digits)\n",
    "\n",
    "# tf Graph input\n",
    "x = tf.placeholder(\"float\", [None, n_steps, n_input])\n",
    "y = tf.placeholder(\"float\", [None, n_classes])\n",
    "\n",
    "# Define weights\n",
    "weights = {\n",
    "    'out': tf.Variable(tf.random_normal([n_hidden, n_classes]))\n",
    "}\n",
    "biases = {\n",
    "    'out': tf.Variable(tf.random_normal([n_classes]))\n",
    "}"
   ]
  },
  {
   "cell_type": "code",
   "execution_count": 3,
   "metadata": {
    "collapsed": false
   },
   "outputs": [],
   "source": [
    "def RNN(x, weights, biases):\n",
    "\n",
    "    # Prepare data shape to match `rnn` function requirements\n",
    "    # Current data input shape: (batch_size, n_steps, n_input)\n",
    "    # Required shape: 'n_steps' tensors list of shape (batch_size, n_input)\n",
    "    \n",
    "    # Unstack to get a list of 'n_steps' tensors of shape (batch_size, n_input)\n",
    "    x = tf.unstack(x, n_steps, 1)\n",
    "\n",
    "    # Define a lstm cell with tensorflow\n",
    "    lstm_cell = rnn.BasicLSTMCell(n_hidden, forget_bias=1.0)\n",
    "\n",
    "    # Get lstm cell output\n",
    "    outputs, states = rnn.static_rnn(lstm_cell, x, dtype=tf.float32)\n",
    "\n",
    "    # Linear activation, using rnn inner loop last output\n",
    "    return tf.matmul(outputs[-1], weights['out']) + biases['out']\n",
    "\n",
    "pred = RNN(x, weights, biases)\n",
    "\n",
    "# Define loss and optimizer\n",
    "cost = tf.reduce_mean(tf.nn.softmax_cross_entropy_with_logits(logits=pred, labels=y))\n",
    "optimizer = tf.train.AdamOptimizer(learning_rate=learning_rate).minimize(cost)\n",
    "\n",
    "# Evaluate model\n",
    "correct_pred = tf.equal(tf.argmax(pred,1), tf.argmax(y,1))\n",
    "accuracy = tf.reduce_mean(tf.cast(correct_pred, tf.float32))\n",
    "\n",
    "# Initializing the variables\n",
    "init = tf.global_variables_initializer()"
   ]
  },
  {
   "cell_type": "code",
   "execution_count": 4,
   "metadata": {
    "collapsed": false
   },
   "outputs": [
    {
     "name": "stdout",
     "output_type": "stream",
     "text": [
      "Iter 1280, Minibatch Loss= 1.791863, Training Accuracy= 0.36719\n",
      "Iter 2560, Minibatch Loss= 1.698888, Training Accuracy= 0.46094\n",
      "Iter 3840, Minibatch Loss= 1.353809, Training Accuracy= 0.53125\n",
      "Iter 5120, Minibatch Loss= 1.187281, Training Accuracy= 0.60156\n",
      "Iter 6400, Minibatch Loss= 1.011813, Training Accuracy= 0.67969\n",
      "Iter 7680, Minibatch Loss= 0.676651, Training Accuracy= 0.75781\n",
      "Iter 8960, Minibatch Loss= 0.640857, Training Accuracy= 0.78125\n",
      "Iter 10240, Minibatch Loss= 0.649050, Training Accuracy= 0.77344\n",
      "Iter 11520, Minibatch Loss= 0.488871, Training Accuracy= 0.85938\n",
      "Iter 12800, Minibatch Loss= 0.536458, Training Accuracy= 0.83594\n",
      "Iter 14080, Minibatch Loss= 0.357844, Training Accuracy= 0.88281\n",
      "Iter 15360, Minibatch Loss= 0.350539, Training Accuracy= 0.88281\n",
      "Iter 16640, Minibatch Loss= 0.477576, Training Accuracy= 0.85938\n",
      "Iter 17920, Minibatch Loss= 0.272736, Training Accuracy= 0.89844\n",
      "Iter 19200, Minibatch Loss= 0.223673, Training Accuracy= 0.91406\n",
      "Iter 20480, Minibatch Loss= 0.224418, Training Accuracy= 0.92969\n",
      "Iter 21760, Minibatch Loss= 0.245173, Training Accuracy= 0.93750\n",
      "Iter 23040, Minibatch Loss= 0.200313, Training Accuracy= 0.92969\n",
      "Iter 24320, Minibatch Loss= 0.260491, Training Accuracy= 0.90625\n",
      "Iter 25600, Minibatch Loss= 0.363098, Training Accuracy= 0.89844\n",
      "Iter 26880, Minibatch Loss= 0.189877, Training Accuracy= 0.92969\n",
      "Iter 28160, Minibatch Loss= 0.215282, Training Accuracy= 0.94531\n",
      "Iter 29440, Minibatch Loss= 0.140381, Training Accuracy= 0.95312\n",
      "Iter 30720, Minibatch Loss= 0.388913, Training Accuracy= 0.89844\n",
      "Iter 32000, Minibatch Loss= 0.221948, Training Accuracy= 0.92969\n",
      "Iter 33280, Minibatch Loss= 0.191654, Training Accuracy= 0.94531\n",
      "Iter 34560, Minibatch Loss= 0.240003, Training Accuracy= 0.92188\n",
      "Iter 35840, Minibatch Loss= 0.128917, Training Accuracy= 0.94531\n",
      "Iter 37120, Minibatch Loss= 0.249769, Training Accuracy= 0.92188\n",
      "Iter 38400, Minibatch Loss= 0.220297, Training Accuracy= 0.95312\n",
      "Iter 39680, Minibatch Loss= 0.188430, Training Accuracy= 0.96094\n",
      "Iter 40960, Minibatch Loss= 0.199626, Training Accuracy= 0.93750\n",
      "Iter 42240, Minibatch Loss= 0.288478, Training Accuracy= 0.93750\n",
      "Iter 43520, Minibatch Loss= 0.298370, Training Accuracy= 0.89844\n",
      "Iter 44800, Minibatch Loss= 0.200600, Training Accuracy= 0.93750\n",
      "Iter 46080, Minibatch Loss= 0.238142, Training Accuracy= 0.92188\n",
      "Iter 47360, Minibatch Loss= 0.166340, Training Accuracy= 0.92188\n",
      "Iter 48640, Minibatch Loss= 0.108146, Training Accuracy= 0.96875\n",
      "Iter 49920, Minibatch Loss= 0.114232, Training Accuracy= 0.95312\n",
      "Iter 51200, Minibatch Loss= 0.080483, Training Accuracy= 0.97656\n",
      "Iter 52480, Minibatch Loss= 0.147153, Training Accuracy= 0.92188\n",
      "Iter 53760, Minibatch Loss= 0.143654, Training Accuracy= 0.94531\n",
      "Iter 55040, Minibatch Loss= 0.151959, Training Accuracy= 0.94531\n",
      "Iter 56320, Minibatch Loss= 0.095774, Training Accuracy= 0.97656\n",
      "Iter 57600, Minibatch Loss= 0.139349, Training Accuracy= 0.96875\n",
      "Iter 58880, Minibatch Loss= 0.121943, Training Accuracy= 0.95312\n",
      "Iter 60160, Minibatch Loss= 0.137919, Training Accuracy= 0.96094\n",
      "Iter 61440, Minibatch Loss= 0.084343, Training Accuracy= 0.97656\n",
      "Iter 62720, Minibatch Loss= 0.242727, Training Accuracy= 0.96094\n",
      "Iter 64000, Minibatch Loss= 0.214935, Training Accuracy= 0.92969\n",
      "Iter 65280, Minibatch Loss= 0.126882, Training Accuracy= 0.96875\n",
      "Iter 66560, Minibatch Loss= 0.065933, Training Accuracy= 0.97656\n",
      "Iter 67840, Minibatch Loss= 0.110722, Training Accuracy= 0.96094\n",
      "Iter 69120, Minibatch Loss= 0.231892, Training Accuracy= 0.93750\n",
      "Iter 70400, Minibatch Loss= 0.195768, Training Accuracy= 0.95312\n",
      "Iter 71680, Minibatch Loss= 0.115412, Training Accuracy= 0.96875\n",
      "Iter 72960, Minibatch Loss= 0.160440, Training Accuracy= 0.92969\n",
      "Iter 74240, Minibatch Loss= 0.092560, Training Accuracy= 0.96875\n",
      "Iter 75520, Minibatch Loss= 0.066037, Training Accuracy= 0.98438\n",
      "Iter 76800, Minibatch Loss= 0.091979, Training Accuracy= 0.96875\n",
      "Iter 78080, Minibatch Loss= 0.123869, Training Accuracy= 0.96094\n",
      "Iter 79360, Minibatch Loss= 0.100740, Training Accuracy= 0.96875\n",
      "Iter 80640, Minibatch Loss= 0.105450, Training Accuracy= 0.96094\n",
      "Iter 81920, Minibatch Loss= 0.118747, Training Accuracy= 0.96094\n",
      "Iter 83200, Minibatch Loss= 0.133695, Training Accuracy= 0.96094\n",
      "Iter 84480, Minibatch Loss= 0.129222, Training Accuracy= 0.94531\n",
      "Iter 85760, Minibatch Loss= 0.058058, Training Accuracy= 0.99219\n",
      "Iter 87040, Minibatch Loss= 0.031255, Training Accuracy= 0.99219\n",
      "Iter 88320, Minibatch Loss= 0.088665, Training Accuracy= 0.97656\n",
      "Iter 89600, Minibatch Loss= 0.112406, Training Accuracy= 0.98438\n",
      "Iter 90880, Minibatch Loss= 0.088929, Training Accuracy= 0.99219\n",
      "Iter 92160, Minibatch Loss= 0.132650, Training Accuracy= 0.97656\n",
      "Iter 93440, Minibatch Loss= 0.109872, Training Accuracy= 0.96094\n",
      "Iter 94720, Minibatch Loss= 0.124044, Training Accuracy= 0.96094\n",
      "Iter 96000, Minibatch Loss= 0.047125, Training Accuracy= 0.99219\n",
      "Iter 97280, Minibatch Loss= 0.110788, Training Accuracy= 0.96094\n",
      "Iter 98560, Minibatch Loss= 0.086244, Training Accuracy= 0.96875\n",
      "Iter 99840, Minibatch Loss= 0.093491, Training Accuracy= 0.96875\n",
      "Optimization Finished!\n",
      "Testing Accuracy: 0.984375\n"
     ]
    }
   ],
   "source": [
    "# Launch the graph\n",
    "with tf.Session() as sess:\n",
    "    sess.run(init)\n",
    "    step = 1\n",
    "    # Keep training until reach max iterations\n",
    "    while step * batch_size < training_iters:\n",
    "        batch_x, batch_y = mnist.train.next_batch(batch_size)\n",
    "        # Reshape data to get 28 seq of 28 elements\n",
    "        batch_x = batch_x.reshape((batch_size, n_steps, n_input))\n",
    "        # Run optimization op (backprop)\n",
    "        sess.run(optimizer, feed_dict={x: batch_x, y: batch_y})\n",
    "        if step % display_step == 0:\n",
    "            # Calculate batch accuracy\n",
    "            acc = sess.run(accuracy, feed_dict={x: batch_x, y: batch_y})\n",
    "            # Calculate batch loss\n",
    "            loss = sess.run(cost, feed_dict={x: batch_x, y: batch_y})\n",
    "            print(\"Iter \" + str(step*batch_size) + \", Minibatch Loss= \" + \\\n",
    "                  \"{:.6f}\".format(loss) + \", Training Accuracy= \" + \\\n",
    "                  \"{:.5f}\".format(acc))\n",
    "        step += 1\n",
    "    print (\"Optimization Finished!\")\n",
    "\n",
    "    # Calculate accuracy for 128 mnist test images\n",
    "    test_len = 128\n",
    "    test_data = mnist.test.images[:test_len].reshape((-1, n_steps, n_input))\n",
    "    test_label = mnist.test.labels[:test_len]\n",
    "    print (\"Testing Accuracy:\", \\\n",
    "        sess.run(accuracy, feed_dict={x: test_data, y: test_label}))"
   ]
  },
  {
   "cell_type": "code",
   "execution_count": null,
   "metadata": {
    "collapsed": true
   },
   "outputs": [],
   "source": []
  }
 ],
 "metadata": {
  "anaconda-cloud": {},
  "kernelspec": {
   "display_name": "Python [default]",
   "language": "python",
   "name": "python3"
  },
  "language_info": {
   "codemirror_mode": {
    "name": "ipython",
    "version": 3
   },
   "file_extension": ".py",
   "mimetype": "text/x-python",
   "name": "python",
   "nbconvert_exporter": "python",
   "pygments_lexer": "ipython3",
   "version": "3.5.2"
  }
 },
 "nbformat": 4,
 "nbformat_minor": 0
}
